{
 "cells": [
  {
   "cell_type": "code",
   "execution_count": 1,
   "id": "1e59abb8-66e5-4a44-a41a-7d13dac2eb2b",
   "metadata": {},
   "outputs": [],
   "source": [
    "from threesection import qhdc_plotter_three\n",
    "import matplotlib.pyplot as plt\n",
    "\n",
    "plt.rcParams['mathtext.fontset'] = 'cm'\n",
    "plt.rcParams['font.family'] = 'STIXGeneral'\n",
    "plt.rcParams[\"font.size\"] = \"22\"\n",
    "\n",
    "%matplotlib qt"
   ]
  },
  {
   "cell_type": "code",
   "execution_count": 2,
   "id": "3ba4c207-2e8e-476c-9b13-37723643493f",
   "metadata": {},
   "outputs": [
    {
     "name": "stdout",
     "output_type": "stream",
     "text": [
      "Center: 25.00 GHz\n",
      "Normal: 16.7 GHz - 33.2 GHz, BW: 16.5 GHz (0.66)\n",
      "Diff: S21 - S31 (0.647) offset 1.45 dB\n"
     ]
    }
   ],
   "source": [
    "fig1,fig2,fig3 = qhdc_plotter_three([182.9,39.6,75.9,33.1],4,25e9,50)"
   ]
  },
  {
   "cell_type": "code",
   "execution_count": 3,
   "id": "4e9e47d5-be40-44a9-b4b1-5bf7d993deb5",
   "metadata": {},
   "outputs": [],
   "source": [
    "fig1.savefig('one.pdf')\n",
    "fig2.savefig('two.pdf')\n",
    "fig3.savefig('three.pdf') "
   ]
  },
  {
   "cell_type": "code",
   "execution_count": null,
   "id": "24bb16f8-e64f-4de1-8e7a-8fd0633d878b",
   "metadata": {},
   "outputs": [],
   "source": []
  }
 ],
 "metadata": {
  "kernelspec": {
   "display_name": "Python 3 (ipykernel)",
   "language": "python",
   "name": "python3"
  },
  "language_info": {
   "codemirror_mode": {
    "name": "ipython",
    "version": 3
   },
   "file_extension": ".py",
   "mimetype": "text/x-python",
   "name": "python",
   "nbconvert_exporter": "python",
   "pygments_lexer": "ipython3",
   "version": "3.11.3"
  }
 },
 "nbformat": 4,
 "nbformat_minor": 5
}
